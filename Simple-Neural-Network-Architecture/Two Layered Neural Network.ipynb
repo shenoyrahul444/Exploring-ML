{
 "cells": [
  {
   "cell_type": "markdown",
   "metadata": {},
   "source": [
    "## Introduction\n",
    "I am creating a 2 layered neural network with 1 hidden layer. \n",
    "The aim is to implement the theoretically learnt concepts and get a feel of the how the algorithm generally works.\n"
   ]
  },
  {
   "cell_type": "code",
   "execution_count": 48,
   "metadata": {
    "collapsed": true
   },
   "outputs": [],
   "source": [
    "#importing dependencies\n",
    "import numpy as np"
   ]
  },
  {
   "cell_type": "code",
   "execution_count": 76,
   "metadata": {
    "collapsed": true
   },
   "outputs": [],
   "source": [
    "# Non Linear Activation Function\n",
    "def nonlin(x,deriv=False):\n",
    "    if deriv:\n",
    "        #Taking the derivative of the sigmoid function\n",
    "        return x*(1-x)\n",
    "    else:\n",
    "        return 1/1+np.exp(-x)"
   ]
  },
  {
   "cell_type": "code",
   "execution_count": 50,
   "metadata": {
    "collapsed": false
   },
   "outputs": [
    {
     "data": {
      "text/plain": [
       "array([[0, 0, 1],\n",
       "       [0, 1, 1],\n",
       "       [1, 0, 1],\n",
       "       [1, 1, 1]])"
      ]
     },
     "execution_count": 50,
     "metadata": {},
     "output_type": "execute_result"
    }
   ],
   "source": [
    "X = np.array([[0,0,1],[0,1,1],[1,0,1],[1,1,1]])\n",
    "X"
   ]
  },
  {
   "cell_type": "code",
   "execution_count": 51,
   "metadata": {
    "collapsed": false
   },
   "outputs": [
    {
     "data": {
      "text/plain": [
       "array([[0],\n",
       "       [0],\n",
       "       [1],\n",
       "       [1]])"
      ]
     },
     "execution_count": 51,
     "metadata": {},
     "output_type": "execute_result"
    }
   ],
   "source": [
    "#Creating Response Variables \n",
    "y = np.array([[0,0,1,1]]).T\n",
    "y"
   ]
  },
  {
   "cell_type": "code",
   "execution_count": 52,
   "metadata": {
    "collapsed": false
   },
   "outputs": [],
   "source": [
    "#Setting the seeds for recreating the results\n",
    "np.random.seed(1)"
   ]
  },
  {
   "cell_type": "code",
   "execution_count": 66,
   "metadata": {
    "collapsed": false
   },
   "outputs": [
    {
     "data": {
      "text/plain": [
       "array([[-0.1653904 ],\n",
       "       [ 0.11737966],\n",
       "       [-0.71922612]])"
      ]
     },
     "execution_count": 66,
     "metadata": {},
     "output_type": "execute_result"
    }
   ],
   "source": [
    "#Initialize weights randomly with mean 0\n",
    "syn0 = 2*np.random.random((3,1)) - 1\n",
    "syn0"
   ]
  },
  {
   "cell_type": "code",
   "execution_count": 78,
   "metadata": {
    "collapsed": false
   },
   "outputs": [
    {
     "name": "stdout",
     "output_type": "stream",
     "text": [
      "Output After Training\n",
      "[[ 1.]\n",
      " [ 1.]\n",
      " [ 1.]\n",
      " [ 1.]]\n"
     ]
    }
   ],
   "source": [
    "#Creating Iterations for Forward propogation, Calculating error\n",
    "for iter in range(10000):\n",
    "    \n",
    "    #Forward Propogation\n",
    "    l0 = X            #Layer 0 - Input\n",
    "    l1 = nonlin(np.dot(l0,syn0))       #Layer 1 - passing through activation function\n",
    "#     print(l1)\n",
    "    #l1 is the output of the activation function, and also the result in our case as it is just a 2-layered neural network with just one hidden layer in between\n",
    "    \n",
    "    #Calculating the Error -> By how much did we miss?\n",
    "    l1_error = y - l1\n",
    "    \n",
    "    #Multiplying how much we missed by the Sigmoid slope\n",
    "    l1_delta = l1_error * nonlin(l1,True)\n",
    "    \n",
    "    \n",
    "    # Updating Weights \n",
    "    syn0 += np.dot(l0.T,l1_delta)\n",
    "    \n",
    "print( \"Output After Training\")\n",
    "print(l1)\n",
    "\n",
    "    \n",
    "    "
   ]
  },
  {
   "cell_type": "markdown",
   "metadata": {},
   "source": [
    "## Thus the simple neural network was able to predict the actual y-values by adjusting the weights"
   ]
  },
  {
   "cell_type": "markdown",
   "metadata": {},
   "source": [
    "# More on this later\n"
   ]
  }
 ],
 "metadata": {
  "kernelspec": {
   "display_name": "Python [conda root]",
   "language": "python",
   "name": "conda-root-py"
  },
  "language_info": {
   "codemirror_mode": {
    "name": "ipython",
    "version": 3
   },
   "file_extension": ".py",
   "mimetype": "text/x-python",
   "name": "python",
   "nbconvert_exporter": "python",
   "pygments_lexer": "ipython3",
   "version": "3.6.0"
  }
 },
 "nbformat": 4,
 "nbformat_minor": 2
}
